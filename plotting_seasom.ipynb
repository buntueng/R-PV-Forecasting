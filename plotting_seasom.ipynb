{
 "cells": [
  {
   "cell_type": "code",
   "execution_count": 1,
   "metadata": {},
   "outputs": [
    {
     "name": "stdout",
     "output_type": "stream",
     "text": [
      "Spring months are:  ['Mar', 'Apr', 'May']\n",
      "Summer months are:  ['Jun', 'Jul', 'Aug']\n",
      "Autumn months are:  ['Sep', 'Oct', 'Nov']\n",
      "Winter months are:  ['Jan', 'Feb', 'Dec']\n"
     ]
    }
   ],
   "source": [
    "month =[\"Jan\", \"Feb\", \"Mar\", \"Apr\", \"May\", \"Jun\", \"Jul\", \"Aug\", \"Sep\", \"Oct\", \"Nov\", \"Dec\"]\n",
    "Spring = month[2:5]\n",
    "Summer = month[5:8]\n",
    "Autumn = month[8:11]\n",
    "Winter = month[0:2] + month[11:12]\n",
    "\n",
    "print(\"Spring months are: \", Spring)\n",
    "print(\"Summer months are: \", Summer)\n",
    "print(\"Autumn months are: \", Autumn)\n",
    "print(\"Winter months are: \", Winter)"
   ]
  },
  {
   "cell_type": "code",
   "execution_count": null,
   "metadata": {},
   "outputs": [],
   "source": []
  }
 ],
 "metadata": {
  "kernelspec": {
   "display_name": "Python 3",
   "language": "python",
   "name": "python3"
  },
  "language_info": {
   "codemirror_mode": {
    "name": "ipython",
    "version": 3
   },
   "file_extension": ".py",
   "mimetype": "text/x-python",
   "name": "python",
   "nbconvert_exporter": "python",
   "pygments_lexer": "ipython3",
   "version": "3.10.11"
  }
 },
 "nbformat": 4,
 "nbformat_minor": 2
}
