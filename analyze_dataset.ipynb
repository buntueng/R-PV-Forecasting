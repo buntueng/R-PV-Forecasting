{
 "cells": [
  {
   "cell_type": "code",
   "execution_count": 1,
   "metadata": {},
   "outputs": [],
   "source": [
    "import pandas\n",
    "import seaborn\n",
    "import matplotlib.pyplot as plt\n",
    "from glob import glob"
   ]
  },
  {
   "cell_type": "code",
   "execution_count": 8,
   "metadata": {},
   "outputs": [
    {
     "name": "stdout",
     "output_type": "stream",
     "text": [
      "Index(['DateTime', 'Most recent forecast [MW]', 'Day-Ahead forecast [MW]',\n",
      "       'Week-Ahead forecast [MW]', 'Real-time Upscaled Measurement [MW]',\n",
      "       'Corrected Upscaled Measurement [MW]', 'Monitored Capacity [MWp]',\n",
      "       'Day-Ahead forecast (11h00) [MW]'],\n",
      "      dtype='object')\n"
     ]
    }
   ],
   "source": [
    "# read all files in the folder\n",
    "current_folder = \"dataset\"\n",
    "all_files = glob(current_folder + \"/*.xls\")\n",
    "\n",
    "# load dataset from folder dataset which are xls files\n",
    "dataset = pandas.concat([pandas.read_excel(file, header=3) for file in all_files])\n",
    "\n",
    "# show header titile\n",
    "print(dataset.columns)"
   ]
  },
  {
   "cell_type": "code",
   "execution_count": 14,
   "metadata": {},
   "outputs": [],
   "source": [
    "# convert the 'DateTime' column to datetime format\n",
    "dataset['DateTime'] = pandas.to_datetime(dataset['DateTime'],format='mixed')"
   ]
  },
  {
   "cell_type": "code",
   "execution_count": 24,
   "metadata": {},
   "outputs": [
    {
     "name": "stdout",
     "output_type": "stream",
     "text": [
      "                 DateTime  Most recent forecast [MW]  Day-Ahead forecast [MW]  \\\n",
      "0     2015-03-03 00:00:00                        0.0                      NaN   \n",
      "1     2015-03-03 00:15:00                        0.0                      NaN   \n",
      "2     2015-03-03 00:30:00                        0.0                      NaN   \n",
      "3     2015-03-03 00:45:00                        0.0                      NaN   \n",
      "4     2015-03-03 01:00:00                        0.0                      NaN   \n",
      "...                   ...                        ...                      ...   \n",
      "10840 2015-06-29 23:00:00                        0.0                      NaN   \n",
      "10841 2015-06-29 23:15:00                        0.0                      NaN   \n",
      "10842 2015-06-29 23:30:00                        0.0                      NaN   \n",
      "10843 2015-06-29 23:45:00                        0.0                      NaN   \n",
      "10844 2015-06-30 00:00:00                        0.0                      NaN   \n",
      "\n",
      "       Week-Ahead forecast [MW]  Real-time Upscaled Measurement [MW]  \\\n",
      "0                           NaN                                  0.0   \n",
      "1                           NaN                                  0.0   \n",
      "2                           NaN                                  0.0   \n",
      "3                           NaN                                  0.0   \n",
      "4                           NaN                                  0.0   \n",
      "...                         ...                                  ...   \n",
      "10840                       NaN                                  0.0   \n",
      "10841                       NaN                                  0.0   \n",
      "10842                       NaN                                  0.0   \n",
      "10843                       NaN                                  0.0   \n",
      "10844                       NaN                                  0.0   \n",
      "\n",
      "       Corrected Upscaled Measurement [MW]  Monitored Capacity [MWp]  \\\n",
      "0                                      0.0                   2817.61   \n",
      "1                                      0.0                   2817.61   \n",
      "2                                      0.0                   2817.61   \n",
      "3                                      0.0                   2817.61   \n",
      "4                                      0.0                   2817.61   \n",
      "...                                    ...                       ...   \n",
      "10840                                  0.0                   2915.88   \n",
      "10841                                  0.0                   2915.88   \n",
      "10842                                  0.0                   2915.88   \n",
      "10843                                  0.0                   2915.88   \n",
      "10844                                  0.0                   2915.88   \n",
      "\n",
      "       Day-Ahead forecast (11h00) [MW]  \n",
      "0                                  0.0  \n",
      "1                                  0.0  \n",
      "2                                  0.0  \n",
      "3                                  0.0  \n",
      "4                                  0.0  \n",
      "...                                ...  \n",
      "10840                              0.0  \n",
      "10841                              0.0  \n",
      "10842                              0.0  \n",
      "10843                              0.0  \n",
      "10844                              0.0  \n",
      "\n",
      "[10845 rows x 8 columns]\n"
     ]
    }
   ],
   "source": [
    "# plot 'Monitored Capacity (MWp)' from May 2015 to June 2015\n",
    "filtered_data = dataset[(dataset['DateTime'] >= '2015-03-01') & (dataset['DateTime'] <= '2015-06-30')]\n",
    "# find the average of 'Monitored Capacity (MWp)' for each day\n",
    "filtered_data = filtered_data.groupby('DateTime').mean().reset_index()\n",
    "\n",
    "# print the average of 'Monitored Capacity (MWp)' for each day\n",
    "print(filtered_data)"
   ]
  }
 ],
 "metadata": {
  "kernelspec": {
   "display_name": "Python 3",
   "language": "python",
   "name": "python3"
  },
  "language_info": {
   "codemirror_mode": {
    "name": "ipython",
    "version": 3
   },
   "file_extension": ".py",
   "mimetype": "text/x-python",
   "name": "python",
   "nbconvert_exporter": "python",
   "pygments_lexer": "ipython3",
   "version": "3.10.1"
  }
 },
 "nbformat": 4,
 "nbformat_minor": 2
}
